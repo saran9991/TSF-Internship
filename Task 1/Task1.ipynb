{
  "nbformat": 4,
  "nbformat_minor": 0,
  "metadata": {
    "colab": {
      "name": "Task1.ipynb",
      "provenance": [],
      "collapsed_sections": []
    },
    "kernelspec": {
      "name": "python3",
      "display_name": "Python 3"
    },
    "language_info": {
      "name": "python"
    }
  },
  "cells": [
    {
      "cell_type": "markdown",
      "metadata": {
        "id": "Oy1ZIUeDWo96"
      },
      "source": [
        "# Task 1 : Prediction using Supervised Machine Learning"
      ]
    },
    {
      "cell_type": "markdown",
      "metadata": {
        "id": "sjsmTGeGe2qo"
      },
      "source": [
        "## • Importing libraries and data"
      ]
    },
    {
      "cell_type": "code",
      "metadata": {
        "id": "z38VSraaXJt5"
      },
      "source": [
        "import matplotlib.pyplot as plt\n",
        "import pandas as pd\n",
        "import numpy as np\n",
        "from sklearn.linear_model import LinearRegression\n",
        "from sklearn import metrics  \n",
        "from sklearn.model_selection import train_test_split "
      ],
      "execution_count": 1,
      "outputs": []
    },
    {
      "cell_type": "code",
      "metadata": {
        "colab": {
          "base_uri": "https://localhost:8080/"
        },
        "id": "hGxzEhz4XUlR",
        "outputId": "835bd03e-5338-48f8-e041-63bbb43226c3"
      },
      "source": [
        "#Importing data from the given URL \n",
        "url = r\"https://raw.githubusercontent.com/AdiPersonalWorks/Random/master/student_scores%20-%20student_scores.csv\"\n",
        "data = pd.read_csv(url)\n",
        "print(data.head())\n",
        "data['Scores'].max()"
      ],
      "execution_count": 2,
      "outputs": [
        {
          "output_type": "stream",
          "text": [
            "   Hours  Scores\n",
            "0    2.5      21\n",
            "1    5.1      47\n",
            "2    3.2      27\n",
            "3    8.5      75\n",
            "4    3.5      30\n"
          ],
          "name": "stdout"
        },
        {
          "output_type": "execute_result",
          "data": {
            "text/plain": [
              "95"
            ]
          },
          "metadata": {
            "tags": []
          },
          "execution_count": 2
        }
      ]
    },
    {
      "cell_type": "markdown",
      "metadata": {
        "id": "itUzIy_7e9YQ"
      },
      "source": [
        "## • Visualizing the data"
      ]
    },
    {
      "cell_type": "code",
      "metadata": {
        "colab": {
          "base_uri": "https://localhost:8080/",
          "height": 295
        },
        "id": "XV99TLUgXlww",
        "outputId": "18171119-4a9b-4391-90d5-b2e36d9f703e"
      },
      "source": [
        "# Scatter plot of Hours vs percentage score\n",
        "data.plot(x='Hours', y='Scores', style='o')  \n",
        "plt.title('Hours vs Percentage')  \n",
        "plt.xlabel('No of hours')  \n",
        "plt.ylabel('Percentage Scored')  \n",
        "plt.show()"
      ],
      "execution_count": 3,
      "outputs": [
        {
          "output_type": "display_data",
          "data": {
            "image/png": "[encoded data removed]",
            "text/plain": [
              "<Figure size 432x288 with 1 Axes>"
            ]
          },
          "metadata": {
            "tags": [],
            "needs_background": "light"
          }
        }
      ]
    },
    {
      "cell_type": "code",
      "metadata": {
        "id": "H-epdrr5XvIc"
      },
      "source": [
        "#X is the input, y signifies the output ( 2nd column )\n",
        "X = data.iloc[:, :-1].values \n",
        "y = data.iloc[:, 1].values"
      ],
      "execution_count": 4,
      "outputs": []
    },
    {
      "cell_type": "markdown",
      "metadata": {
        "id": "tl-SGXFVepjA"
      },
      "source": [
        "## • Training of model and making predictions"
      ]
    },
    {
      "cell_type": "code",
      "metadata": {
        "colab": {
          "base_uri": "https://localhost:8080/"
        },
        "id": "ZpiBzEI2Xw95",
        "outputId": "3bb56919-fe26-47aa-d941-9c1da8622a78"
      },
      "source": [
        "X_train, X_test, y_train, y_test = train_test_split(X, y, test_size=0.2, random_state=0) \n",
        "regressor = LinearRegression()  \n",
        "regressor.fit(X_train.reshape(-1,1), y_train) \n",
        "\n",
        "print(\"Training completed successfully\")"
      ],
      "execution_count": 5,
      "outputs": [
        {
          "output_type": "stream",
          "text": [
            "Training completed successfully\n"
          ],
          "name": "stdout"
        }
      ]
    },
    {
      "cell_type": "code",
      "metadata": {
        "colab": {
          "base_uri": "https://localhost:8080/",
          "height": 265
        },
        "id": "EG57TTV5Xylf",
        "outputId": "67263515-4d58-48cd-bfbb-24247e5b752e"
      },
      "source": [
        "# Plotting for the line along with test data to see how well it fits the data \n",
        "plt.scatter(X, y, color='orange')\n",
        "line = regressor.coef_*X+regressor.intercept_\n",
        "plt.plot(X, line,color='lightblue');\n",
        "plt.show()"
      ],
      "execution_count": 6,
      "outputs": [
        {
          "output_type": "display_data",
          "data": {
            "image/png": "[encoded data removed]",
            "text/plain": [
              "<Figure size 432x288 with 1 Axes>"
            ]
          },
          "metadata": {
            "tags": [],
            "needs_background": "light"
          }
        }
      ]
    },
    {
      "cell_type": "code",
      "metadata": {
        "colab": {
          "base_uri": "https://localhost:8080/"
        },
        "id": "SrBdu8kEXz46",
        "outputId": "843d2f22-7718-4d44-b83f-b09440fc2c5e"
      },
      "source": [
        "print(X_test)\n",
        "y_pred = regressor.predict(X_test)"
      ],
      "execution_count": 7,
      "outputs": [
        {
          "output_type": "stream",
          "text": [
            "[[1.5]\n",
            " [3.2]\n",
            " [7.4]\n",
            " [2.5]\n",
            " [5.9]]\n"
          ],
          "name": "stdout"
        }
      ]
    },
    {
      "cell_type": "code",
      "metadata": {
        "colab": {
          "base_uri": "https://localhost:8080/"
        },
        "id": "j7VuPqksaxNw",
        "outputId": "7beb5887-5307-45d6-a736-1c32c348a12b"
      },
      "source": [
        "print(y_pred)"
      ],
      "execution_count": 8,
      "outputs": [
        {
          "output_type": "stream",
          "text": [
            "[16.88414476 33.73226078 75.357018   26.79480124 60.49103328]\n"
          ],
          "name": "stdout"
        }
      ]
    },
    {
      "cell_type": "markdown",
      "metadata": {
        "id": "q-NGXPV5eamA"
      },
      "source": [
        "## • Comparison of Actual and Predicted values \n"
      ]
    },
    {
      "cell_type": "code",
      "metadata": {
        "colab": {
          "base_uri": "https://localhost:8080/",
          "height": 206
        },
        "id": "Q-7wzzgqX1Vw",
        "outputId": "58279384-ffb1-4da4-9600-9e1ed31a99ea"
      },
      "source": [
        "# Comparing actual values to the predicted ones\n",
        "data2 = pd.DataFrame({'Actual': y_test, 'Predicted': y_pred}) \n",
        "data2"
      ],
      "execution_count": 9,
      "outputs": [
        {
          "output_type": "execute_result",
          "data": {
            "text/html": [
              "<div>\n",
              "<style scoped>\n",
              "    .dataframe tbody tr th:only-of-type {\n",
              "        vertical-align: middle;\n",
              "    }\n",
              "\n",
              "    .dataframe tbody tr th {\n",
              "        vertical-align: top;\n",
              "    }\n",
              "\n",
              "    .dataframe thead th {\n",
              "        text-align: right;\n",
              "    }\n",
              "</style>\n",
              "<table border=\"1\" class=\"dataframe\">\n",
              "  <thead>\n",
              "    <tr style=\"text-align: right;\">\n",
              "      <th></th>\n",
              "      <th>Actual</th>\n",
              "      <th>Predicted</th>\n",
              "    </tr>\n",
              "  </thead>\n",
              "  <tbody>\n",
              "    <tr>\n",
              "      <th>0</th>\n",
              "      <td>20</td>\n",
              "      <td>16.884145</td>\n",
              "    </tr>\n",
              "    <tr>\n",
              "      <th>1</th>\n",
              "      <td>27</td>\n",
              "      <td>33.732261</td>\n",
              "    </tr>\n",
              "    <tr>\n",
              "      <th>2</th>\n",
              "      <td>69</td>\n",
              "      <td>75.357018</td>\n",
              "    </tr>\n",
              "    <tr>\n",
              "      <th>3</th>\n",
              "      <td>30</td>\n",
              "      <td>26.794801</td>\n",
              "    </tr>\n",
              "    <tr>\n",
              "      <th>4</th>\n",
              "      <td>62</td>\n",
              "      <td>60.491033</td>\n",
              "    </tr>\n",
              "  </tbody>\n",
              "</table>\n",
              "</div>"
            ],
            "text/plain": [
              "   Actual  Predicted\n",
              "0      20  16.884145\n",
              "1      27  33.732261\n",
              "2      69  75.357018\n",
              "3      30  26.794801\n",
              "4      62  60.491033"
            ]
          },
          "metadata": {
            "tags": []
          },
          "execution_count": 9
        }
      ]
    },
    {
      "cell_type": "code",
      "metadata": {
        "colab": {
          "base_uri": "https://localhost:8080/"
        },
        "id": "5MgkGXNoX3MF",
        "outputId": "5766e551-fb31-4960-921f-ca6179fcf4e3"
      },
      "source": [
        "print(\"Training Score:\",regressor.score(X_train,y_train))\n",
        "print(\"Test Score:\",regressor.score(X_test,y_test))"
      ],
      "execution_count": 10,
      "outputs": [
        {
          "output_type": "stream",
          "text": [
            "Training Score: 0.9515510725211553\n",
            "Test Score: 0.9454906892105354\n"
          ],
          "name": "stdout"
        }
      ]
    },
    {
      "cell_type": "code",
      "metadata": {
        "colab": {
          "base_uri": "https://localhost:8080/",
          "height": 496
        },
        "id": "dCtjm5e8X6vD",
        "outputId": "74f139a4-74e6-4655-e5d6-d455f0f6f357"
      },
      "source": [
        "ind = np.arange(len(data2['Actual']))  \n",
        "width = 0.35  \n",
        "fig, ax = plt.subplots()\n",
        "ax = fig.add_axes([0,0,1.5,1.5])\n",
        "rects1 = ax.bar(ind - width/2, data2['Actual'], width,\n",
        "                label='Actual', color='khaki')\n",
        "rects2 = ax.bar(ind + width/2, data2['Predicted'], width,\n",
        "                label='Predicted',color='orange')\n",
        "\n",
        "ax.set_title('BAR Graph of Actual and Predicted Values ')\n",
        "ax.legend()\n",
        "plt.show()\n",
        "\n"
      ],
      "execution_count": 11,
      "outputs": [
        {
          "output_type": "display_data",
          "data": {
            "image/png": "[encoded data removed]",
            "text/plain": [
              "<Figure size 432x288 with 2 Axes>"
            ]
          },
          "metadata": {
            "tags": [],
            "needs_background": "light"
          }
        }
      ]
    },
    {
      "cell_type": "code",
      "metadata": {
        "colab": {
          "base_uri": "https://localhost:8080/"
        },
        "id": "2YUQYMHuX74o",
        "outputId": "3d684e16-e727-49aa-a37a-2e80be091ba3"
      },
      "source": [
        "#Testing against data\n",
        "hours = 9.25\n",
        "test = np.array([hours])\n",
        "test = test.reshape(-1, 1)\n",
        "pred = regressor.predict(test)\n"
      ],
      "execution_count": 16,
      "outputs": [
        {
          "output_type": "stream",
          "text": [
            "No of Hours = 9.25\n",
            "Predicted Score = 93.69173248737539\n"
          ],
          "name": "stdout"
        }
      ]
    },
    {
      "cell_type": "markdown",
      "metadata": {
        "id": "7QDgILLZi_xK"
      },
      "source": [
        "What will be predicted score if a student study for 9.25 hrs in a day?\n",
        "\n"
      ]
    },
    {
      "cell_type": "code",
      "metadata": {
        "colab": {
          "base_uri": "https://localhost:8080/"
        },
        "id": "HCy4DjWZjDra",
        "outputId": "21e97125-4cd7-4255-8ce6-80277a36e791"
      },
      "source": [
        "print(\"No of Hours = {}\".format(hours))\n",
        "print(\"Predicted Score comes out to be = {}\".format(pred[0]))"
      ],
      "execution_count": 20,
      "outputs": [
        {
          "output_type": "stream",
          "text": [
            "No of Hours = 9.25\n",
            "Predicted Score comes out to be = 93.69173248737539\n"
          ],
          "name": "stdout"
        }
      ]
    },
    {
      "cell_type": "markdown",
      "metadata": {
        "id": "9hxn6vREdzxL"
      },
      "source": [
        "## • Evaluation of Model"
      ]
    },
    {
      "cell_type": "code",
      "metadata": {
        "colab": {
          "base_uri": "https://localhost:8080/"
        },
        "id": "8ZJx5Hn7X9f_",
        "outputId": "d0b6ecd3-e49c-467e-ddb9-b2b037c1c6ed"
      },
      "source": [
        "print('Mean Absolute Error(MAE):',metrics.mean_absolute_error(y_test, y_pred)) \n",
        "print('Mean Squared Error(MSE) :', metrics.mean_squared_error(y_test, y_pred))\n",
        "print('Root Mean Squared Error(RMSE):', np.sqrt(metrics.mean_squared_error(y_test, y_pred)))\n",
        "print('R-Squared(R^2):', metrics.r2_score(y_test, y_pred))"
      ],
      "execution_count": 17,
      "outputs": [
        {
          "output_type": "stream",
          "text": [
            "Mean Absolute Error(MAE): 4.183859899002982\n",
            "Mean Squared Error(MSE) : 21.598769307217456\n",
            "Root Mean Squared Error(RMSE): 4.647447612100373\n",
            "R-Squared(R^2): 0.9454906892105354\n"
          ],
          "name": "stdout"
        }
      ]
    },
    {
      "cell_type": "code",
      "metadata": {
        "id": "6LhDeuhmX-zI"
      },
      "source": [
        ""
      ],
      "execution_count": 13,
      "outputs": []
    }
  ]
}